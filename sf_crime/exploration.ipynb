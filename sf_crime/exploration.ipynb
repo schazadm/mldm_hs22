{
 "cells": [
  {
   "cell_type": "code",
   "execution_count": null,
   "metadata": {},
   "outputs": [],
   "source": [
    "import os\n",
    "import pandas as pd\n",
    "import plotly.express as px"
   ]
  },
  {
   "cell_type": "code",
   "execution_count": null,
   "metadata": {},
   "outputs": [],
   "source": [
    "# load data\n",
    "train_sf_df = pd.read_csv(filepath_or_buffer='data/train.csv')\n",
    "test_sf_df = pd.read_csv(filepath_or_buffer='data/test.csv')\n",
    "train_sf_df.shape, test_sf_df.shape"
   ]
  },
  {
   "cell_type": "code",
   "execution_count": null,
   "metadata": {},
   "outputs": [],
   "source": [
    "train_sf_df.head()"
   ]
  },
  {
   "cell_type": "code",
   "execution_count": null,
   "metadata": {},
   "outputs": [],
   "source": [
    "test_sf_df.head()"
   ]
  },
  {
   "cell_type": "code",
   "execution_count": null,
   "metadata": {},
   "outputs": [],
   "source": [
    "train_cols_renamed = ['time', 'category', 'description', 'weekday', 'police_dept', \n",
    "                      'resolution', 'address', 'longitude', 'latitude']\n",
    "train_sf_df.columns = train_cols_renamed\n",
    "\n",
    "test_cols_renamed = ['id', 'time', 'weekday', 'police_dept', 'address', 'longitude', 'latitude']\n",
    "test_sf_df.columns = test_cols_renamed"
   ]
  },
  {
   "cell_type": "code",
   "execution_count": null,
   "metadata": {},
   "outputs": [],
   "source": [
    "# remove description and resolution because they're not needed for the training\n",
    "train_sf_df.drop(columns=['description', 'resolution'], axis=1, inplace=True)"
   ]
  },
  {
   "cell_type": "code",
   "execution_count": null,
   "metadata": {},
   "outputs": [],
   "source": [
    "train_sf_df.head()"
   ]
  },
  {
   "cell_type": "code",
   "execution_count": null,
   "metadata": {},
   "outputs": [],
   "source": [
    "def extract_date(time):\n",
    "    return time.split(' ')[0]\n",
    "\n",
    "def extract_year(date):\n",
    "    return int(date.split('-')[0])\n",
    "\n",
    "def extract_month(date):\n",
    "    return int(date.split('-')[1])\n",
    "\n",
    "def extract_day(date):\n",
    "    return int(date.split('-')[2])\n",
    "\n",
    "def extract_hour(time):\n",
    "    date, hms = time.split(' ')\n",
    "    return int(hms.split(':')[0])\n",
    "\n",
    "def extract_minute(time):\n",
    "    date, hms = time.split(' ')\n",
    "    return int(hms.split(':')[1])\n",
    "\n",
    "def extract_season(month):\n",
    "    if month in [4, 5, 6]:\n",
    "        return 'summer'\n",
    "    elif month in [7, 8, 9]:\n",
    "        return 'rainy'\n",
    "    elif month in [10, 11, 12]:\n",
    "        return 'winter'\n",
    "    return 'spring'\n",
    "\n",
    "def extract_hour_type(hour):\n",
    "    if (hour >= 4) and (hour < 12):\n",
    "        return 'morning'\n",
    "    elif (hour >= 12) and (hour < 15):\n",
    "        return 'noon'\n",
    "    elif (hour >= 15) and (hour < 18):\n",
    "        return 'evening'\n",
    "    elif (hour >= 18) and (hour < 22):\n",
    "        return 'night'\n",
    "    return 'mid-night'\n",
    "\n",
    "def extract_time_period(hour):\n",
    "    if hour in [0, 1, 2, 3, 4, 5, 6, 7, 8, 9, 10, 11]:\n",
    "        return 'am'\n",
    "    return 'pm'"
   ]
  },
  {
   "cell_type": "code",
   "execution_count": null,
   "metadata": {},
   "outputs": [],
   "source": [
    "def title_text(text):\n",
    "    if isinstance(text, str):\n",
    "        text = text.title()\n",
    "        return text\n",
    "    return text"
   ]
  },
  {
   "cell_type": "code",
   "execution_count": null,
   "metadata": {},
   "outputs": [],
   "source": [
    "def extract_address_type(addr):\n",
    "    if ' / ' in addr:\n",
    "        return 'Cross'\n",
    "    addr_sep = addr.split(' ')\n",
    "    addr_type = addr_sep[-1]\n",
    "    return addr_type"
   ]
  },
  {
   "cell_type": "code",
   "execution_count": null,
   "metadata": {},
   "outputs": [],
   "source": [
    "def write_temporal_address_features(df, path):\n",
    "    df['date'] = df['time'].apply(func=extract_date)\n",
    "    df['year'] = df['date'].apply(func=extract_year)\n",
    "    df['month'] = df['date'].apply(func=extract_month)\n",
    "    df['day'] = df['date'].apply(func=extract_day)\n",
    "    df['hour'] = df['time'].apply(func=extract_hour)\n",
    "    df['minute'] = df['time'].apply(func=extract_minute)\n",
    "    df['season'] = df['month'].apply(func=extract_season)\n",
    "    df['hour_type'] = df['hour'].apply(func=extract_hour_type)\n",
    "    df['time_period'] = df['hour'].apply(func=extract_time_period)\n",
    "    df['address_type'] = df['address'].apply(func=extract_address_type)\n",
    "    df = df.applymap(func=title_text)\n",
    "    df.to_csv(path_or_buf=path, index=None)\n",
    "    return True"
   ]
  },
  {
   "cell_type": "code",
   "execution_count": null,
   "metadata": {},
   "outputs": [],
   "source": [
    "if (\n",
    "    not os.path.isfile(path='data/train_time_address.csv') and\n",
    "    not os.path.isfile(path='data/test_time_address.csv')\n",
    "   ):\n",
    "    # Training\n",
    "    write_temporal_address_features(df=train_sf_df, path='data/train_time_address.csv')\n",
    "    # Test\n",
    "    write_temporal_address_features(df=test_sf_df, path='data/test_time_address.csv')\n",
    "\n",
    "else:\n",
    "    print(\"Data already exists in the directory.\")"
   ]
  },
  {
   "cell_type": "code",
   "execution_count": null,
   "metadata": {},
   "outputs": [],
   "source": [
    "train_sf_df = pd.read_csv(filepath_or_buffer='data/train_time_address.csv')\n",
    "test_sf_df = pd.read_csv(filepath_or_buffer='data/test_time_address.csv')"
   ]
  },
  {
   "cell_type": "code",
   "execution_count": null,
   "metadata": {},
   "outputs": [],
   "source": [
    "train_sf_df.head()"
   ]
  },
  {
   "cell_type": "code",
   "execution_count": null,
   "metadata": {},
   "outputs": [],
   "source": [
    "test_sf_df.head()"
   ]
  },
  {
   "cell_type": "code",
   "execution_count": null,
   "metadata": {},
   "outputs": [],
   "source": [
    "train_sf_df[['latitude', 'longitude']].describe()"
   ]
  },
  {
   "attachments": {},
   "cell_type": "markdown",
   "metadata": {},
   "source": [
    "* latitude is around `37.7` to `38`\n",
    "* but the max value is `90` which indicates that there are wrong entries\n",
    "* same for longitude"
   ]
  },
  {
   "cell_type": "code",
   "execution_count": null,
   "metadata": {},
   "outputs": [],
   "source": [
    "def plot_column_distribution(df, column):\n",
    "    column_val_df = df[column].value_counts().to_frame().reset_index()\n",
    "    column_val_df.columns = [column, 'count']\n",
    "    \n",
    "    fig = px.bar(data_frame=column_val_df, x=column, y='count')\n",
    "    fig.update_layout(\n",
    "        autosize=True,\n",
    "        height=600,\n",
    "        hovermode='closest',\n",
    "        showlegend=True,\n",
    "        margin=dict(l=10, r=10, t=30, b=0)\n",
    "    )\n",
    "    \n",
    "    fig.show()\n",
    "    return None"
   ]
  },
  {
   "cell_type": "code",
   "execution_count": null,
   "metadata": {},
   "outputs": [],
   "source": [
    "plot_column_distribution(df=train_sf_df, column='category')"
   ]
  },
  {
   "attachments": {},
   "cell_type": "markdown",
   "metadata": {},
   "source": [
    "* the `Larceny/Theft` `category` is the most occurred type of crime in the all the years\n",
    "* we also see that the data is not balanced which leads to the fact that stratification is needed"
   ]
  },
  {
   "cell_type": "code",
   "execution_count": null,
   "metadata": {},
   "outputs": [],
   "source": [
    "plot_column_distribution(df=train_sf_df, column='address_type')"
   ]
  },
  {
   "attachments": {},
   "cell_type": "markdown",
   "metadata": {},
   "source": [
    "* we see that most of the crimes occurred on `Streets` and `Crosses`"
   ]
  },
  {
   "cell_type": "code",
   "execution_count": null,
   "metadata": {},
   "outputs": [],
   "source": [
    "plot_column_distribution(df=train_sf_df, column='police_dept')"
   ]
  },
  {
   "attachments": {},
   "cell_type": "markdown",
   "metadata": {},
   "source": [
    "* the `Southern` police district is most affected"
   ]
  },
  {
   "cell_type": "code",
   "execution_count": null,
   "metadata": {},
   "outputs": [],
   "source": [
    "plot_column_distribution(df=train_sf_df, column='year')"
   ]
  },
  {
   "attachments": {},
   "cell_type": "markdown",
   "metadata": {},
   "source": [
    "* they `year 2015` is either a good year or it's not fully filled with the data"
   ]
  },
  {
   "cell_type": "code",
   "execution_count": null,
   "metadata": {},
   "outputs": [],
   "source": [
    "plot_column_distribution(df=train_sf_df, column='month')"
   ]
  },
  {
   "attachments": {},
   "cell_type": "markdown",
   "metadata": {},
   "source": [
    "* we see that the occurrence of crimes in the months from 6 to 9 is lower than the other months"
   ]
  },
  {
   "cell_type": "code",
   "execution_count": null,
   "metadata": {},
   "outputs": [],
   "source": [
    "plot_column_distribution(df=train_sf_df, column='weekday')"
   ]
  },
  {
   "attachments": {},
   "cell_type": "markdown",
   "metadata": {},
   "source": [
    "* we see that `Friday` has the most crimes occurrence\n",
    "* but `Sunday` is the least \n",
    "* which is an indication that on sundays the people are at home or have free time"
   ]
  },
  {
   "cell_type": "code",
   "execution_count": null,
   "metadata": {},
   "outputs": [],
   "source": [
    "plot_column_distribution(df=train_sf_df, column='hour')"
   ]
  },
  {
   "attachments": {},
   "cell_type": "markdown",
   "metadata": {},
   "source": [
    "* most crimes happen at the evenings\n",
    "* on the morning hours there are less crimes"
   ]
  },
  {
   "cell_type": "code",
   "execution_count": null,
   "metadata": {},
   "outputs": [],
   "source": [
    "plot_column_distribution(df=train_sf_df, column='season')"
   ]
  }
 ],
 "metadata": {
  "kernelspec": {
   "display_name": "Python 3",
   "language": "python",
   "name": "python3"
  },
  "language_info": {
   "codemirror_mode": {
    "name": "ipython",
    "version": 3
   },
   "file_extension": ".py",
   "mimetype": "text/x-python",
   "name": "python",
   "nbconvert_exporter": "python",
   "pygments_lexer": "ipython3",
   "version": "3.10.8 (tags/v3.10.8:aaaf517, Oct 11 2022, 16:50:30) [MSC v.1933 64 bit (AMD64)]"
  },
  "orig_nbformat": 4,
  "vscode": {
   "interpreter": {
    "hash": "369f2c481f4da34e4445cda3fffd2e751bd1c4d706f27375911949ba6bb62e1c"
   }
  }
 },
 "nbformat": 4,
 "nbformat_minor": 2
}
