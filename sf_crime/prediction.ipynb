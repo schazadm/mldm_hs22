{
 "cells": [
  {
   "cell_type": "code",
   "execution_count": null,
   "metadata": {},
   "outputs": [],
   "source": [
    "import os\n",
    "import pandas as pd\n",
    "import numpy as np"
   ]
  },
  {
   "cell_type": "code",
   "execution_count": null,
   "metadata": {},
   "outputs": [],
   "source": [
    "train = pd.read_csv(filepath_or_buffer='data/train_data_features_fix.csv')\n",
    "data = pd.read_csv(filepath_or_buffer='data/test_data_features.csv')"
   ]
  },
  {
   "cell_type": "code",
   "execution_count": null,
   "metadata": {},
   "outputs": [],
   "source": [
    "train.head()"
   ]
  },
  {
   "cell_type": "code",
   "execution_count": null,
   "metadata": {},
   "outputs": [],
   "source": [
    "data.head()"
   ]
  },
  {
   "cell_type": "code",
   "execution_count": null,
   "metadata": {},
   "outputs": [],
   "source": [
    "data.drop(columns=['id'], axis=1, inplace=True)"
   ]
  },
  {
   "cell_type": "code",
   "execution_count": null,
   "metadata": {},
   "outputs": [],
   "source": [
    "from sklearn.preprocessing import StandardScaler"
   ]
  },
  {
   "cell_type": "code",
   "execution_count": null,
   "metadata": {},
   "outputs": [],
   "source": [
    "def preprocess_data(X_train, X_new):\n",
    "    scaler = StandardScaler()\n",
    "    scaler.fit(X_train)\n",
    "    X = scaler.transform(X_new)\n",
    "    return X"
   ]
  },
  {
   "cell_type": "code",
   "execution_count": null,
   "metadata": {},
   "outputs": [],
   "source": [
    "data = preprocess_data(X_train=train, X_new=data)"
   ]
  },
  {
   "cell_type": "code",
   "execution_count": null,
   "metadata": {},
   "outputs": [],
   "source": [
    "labels = [\n",
    "    'ARSON',\n",
    "    'ASSAULT',\n",
    "    'BAD CHECKS',\n",
    "    'BRIBERY',\n",
    "    'BURGLARY',\n",
    "    'DISORDERLY CONDUCT',\n",
    "    'DRIVING UNDER THE INFLUENCE',\n",
    "    'DRUG/NARCOTIC',\n",
    "    'DRUNKENNESS',\n",
    "    'EMBEZZLEMENT',\n",
    "    'EXTORTION',\n",
    "    'FAMILY OFFENSES',\n",
    "    'FORGERY/COUNTERFEITING',\n",
    "    'FRAUD',\n",
    "    'GAMBLING',\n",
    "    'KIDNAPPING',\n",
    "    'LARCENY/THEFT',\n",
    "    'LIQUOR LAWS',\n",
    "    'LOITERING',\n",
    "    'MISSING PERSON',\n",
    "    'NON-CRIMINAL',\n",
    "    'OTHER OFFENSES',\n",
    "    'PORNOGRAPHY/OBSCENE MAT',\n",
    "    'PROSTITUTION',\n",
    "    'RECOVERED VEHICLE',\n",
    "    'ROBBERY',\n",
    "    'RUNAWAY',\n",
    "    'SECONDARY CODES',\n",
    "    'SEX OFFENSES FORCIBLE',\n",
    "    'SEX OFFENSES NON FORCIBLE',\n",
    "    'STOLEN PROPERTY',\n",
    "    'SUICIDE',\n",
    "    'SUSPICIOUS OCC',\n",
    "    'TREA',\n",
    "    'TRESPASS',\n",
    "    'VANDALISM',\n",
    "    'VEHICLE THEFT',\n",
    "    'WARRANTS',\n",
    "    'WEAPON LAWS'\n",
    "]"
   ]
  },
  {
   "cell_type": "code",
   "execution_count": null,
   "metadata": {},
   "outputs": [],
   "source": [
    "import pickle"
   ]
  },
  {
   "cell_type": "code",
   "execution_count": null,
   "metadata": {},
   "outputs": [],
   "source": [
    "def make_predictions(X, model_name=None, labels=labels):\n",
    "    model_path = 'models/'\n",
    "\n",
    "    if (model_name == 'logistic_regression'):\n",
    "        model_path = model_path + 'log_reg_classifier.pkl'\n",
    "    elif (model_name == 'decision_tree'):\n",
    "        model_path = model_path + 'decision_tree_classifier.pkl'\n",
    "    elif (model_name == 'random_forest'):\n",
    "        model_path = model_path + 'random_forest_classifier.pkl'\n",
    "\n",
    "    preds_file = model_name + '_submissions.csv'\n",
    "    predictions_path = 'predictions/' + preds_file\n",
    "\n",
    "    if not os.path.isfile(path=predictions_path):\n",
    "        model = pickle.load(open(model_path, 'rb'))\n",
    "        probas = model.predict_proba(X)\n",
    "        print(probas.shape)\n",
    "\n",
    "        ids = np.array(list(range(X.shape[0]))).reshape(-1, 1)\n",
    "        pred_data = np.hstack(tup=(ids, probas))\n",
    "        pred_df = pd.DataFrame(data=pred_data, columns=['Id'] + labels)\n",
    "        pred_df['Id'] = pred_df['Id'].astype(int)\n",
    "        pred_df.to_csv(path_or_buf=predictions_path, index=None)\n",
    "        return pred_df\n",
    "    else:\n",
    "        print('Predictions already exists.')\n",
    "        print('Model name : ', model_name)\n",
    "        pred_df = pd.read_csv(filepath_or_buffer=predictions_path)\n",
    "        return pred_df\n",
    "\n",
    "    return None"
   ]
  },
  {
   "cell_type": "code",
   "execution_count": null,
   "metadata": {},
   "outputs": [],
   "source": [
    "model_name = 'logistic_regression'\n",
    "lr_preds = make_predictions(X=data, model_name=model_name)"
   ]
  },
  {
   "cell_type": "code",
   "execution_count": null,
   "metadata": {},
   "outputs": [],
   "source": [
    "model_name = 'decision_tree'\n",
    "dt_preds = make_predictions(X=data, model_name=model_name)"
   ]
  },
  {
   "cell_type": "code",
   "execution_count": null,
   "metadata": {},
   "outputs": [],
   "source": [
    "model_name = 'random_forest'\n",
    "rf_preds = make_predictions(X=data, model_name=model_name)"
   ]
  }
 ],
 "metadata": {
  "kernelspec": {
   "display_name": "Python 3",
   "language": "python",
   "name": "python3"
  },
  "language_info": {
   "codemirror_mode": {
    "name": "ipython",
    "version": 3
   },
   "file_extension": ".py",
   "mimetype": "text/x-python",
   "name": "python",
   "nbconvert_exporter": "python",
   "pygments_lexer": "ipython3",
   "version": "3.10.8"
  },
  "orig_nbformat": 4,
  "vscode": {
   "interpreter": {
    "hash": "369f2c481f4da34e4445cda3fffd2e751bd1c4d706f27375911949ba6bb62e1c"
   }
  }
 },
 "nbformat": 4,
 "nbformat_minor": 2
}
